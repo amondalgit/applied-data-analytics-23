{
 "cells": [
  {
   "cell_type": "markdown",
   "metadata": {},
   "source": [
    "## `Assignment~2`\n",
    "> ### Adarsha Mondal\n",
    "> ### MDS202205\n",
    "> ### adarsha@cmi.ac.in"
   ]
  },
  {
   "cell_type": "markdown",
   "metadata": {},
   "source": [
    "$Utilization = \\dfrac{Octet\\_diff \\times 8}{1024^2 \\times Timespan}$\n",
    "\n",
    "#### Units\n",
    "1. $Octet\\_diff$ : B\n",
    "2. $Utilization$ : Mbps\n",
    "3. $Timespan = datetime_i - datetime_{i-1}$ : s"
   ]
  },
  {
   "cell_type": "markdown",
   "metadata": {},
   "source": [
    "##### Dependencies"
   ]
  },
  {
   "cell_type": "code",
   "execution_count": 1,
   "metadata": {},
   "outputs": [],
   "source": [
    "import pandas as pd\n",
    "import seaborn as sns\n",
    "import matplotlib.pyplot as plt \n",
    "import matplotlib.gridspec as gridspec\n",
    "\n",
    "from sklearn.linear_model import LinearRegression\n",
    "from sklearn.metrics import mean_squared_error\n",
    "import numpy as np\n",
    "import random\n",
    "from datetime import datetime\n",
    "\n",
    "sns.set_style(\"darkgrid\")"
   ]
  },
  {
   "cell_type": "markdown",
   "metadata": {},
   "source": [
    "##### Import excel data into Pandas Dataframe"
   ]
  },
  {
   "cell_type": "code",
   "execution_count": 2,
   "metadata": {},
   "outputs": [
    {
     "name": "stdout",
     "output_type": "stream",
     "text": [
      "['Fab1001-401', 'Fab1002-401']\n"
     ]
    }
   ],
   "source": [
    "excel_filename = \"Fablink-cleanedup.xlsx\"\n",
    "xls = pd.ExcelFile(excel_filename)\n",
    "print(xls.sheet_names)"
   ]
  },
  {
   "cell_type": "code",
   "execution_count": 3,
   "metadata": {},
   "outputs": [
    {
     "name": "stdout",
     "output_type": "stream",
     "text": [
      "Columns in sheet name Fab1001-401 are : ['source_node', 'source_port', 'source_type', 'operSpeed', 'destination_node', 'destination_port', 'destination_type', 'Unnamed: 7', 'Unnamed: 8', 'Unnamed: 9', 'Unnamed: 10', 'datetime', 'Unnamed: 12']\n",
      "Columns in sheet name Fab1002-401 are : [1002, ' 1/1 ', 'spine', '40G', 401, ' 1/50 ', 'leaf', 1294836545844876, 1288534668453794, 6301877391082, 556.4757975014934, datetime.datetime(2022, 5, 13, 19, 7, 34)]\n"
     ]
    }
   ],
   "source": [
    "dfs = {}\n",
    "for i, sheet in enumerate(xls.sheet_names):\n",
    "    dfs[i] = pd.read_excel('Fablink-cleanedup.xlsx', sheet_name=sheet)\n",
    "    print(f'Columns in sheet name {sheet} are : {list(dfs[i].columns)}')"
   ]
  },
  {
   "cell_type": "markdown",
   "metadata": {},
   "source": [
    "### First Dataframe"
   ]
  },
  {
   "cell_type": "code",
   "execution_count": 4,
   "metadata": {},
   "outputs": [
    {
     "data": {
      "text/html": [
       "<div>\n",
       "<style scoped>\n",
       "    .dataframe tbody tr th:only-of-type {\n",
       "        vertical-align: middle;\n",
       "    }\n",
       "\n",
       "    .dataframe tbody tr th {\n",
       "        vertical-align: top;\n",
       "    }\n",
       "\n",
       "    .dataframe thead th {\n",
       "        text-align: right;\n",
       "    }\n",
       "</style>\n",
       "<table border=\"1\" class=\"dataframe\">\n",
       "  <thead>\n",
       "    <tr style=\"text-align: right;\">\n",
       "      <th></th>\n",
       "      <th>source_node</th>\n",
       "      <th>source_port</th>\n",
       "      <th>source_type</th>\n",
       "      <th>operSpeed</th>\n",
       "      <th>destination_node</th>\n",
       "      <th>destination_port</th>\n",
       "      <th>destination_type</th>\n",
       "      <th>Unnamed: 7</th>\n",
       "      <th>Unnamed: 8</th>\n",
       "      <th>Unnamed: 9</th>\n",
       "      <th>Unnamed: 10</th>\n",
       "      <th>datetime</th>\n",
       "      <th>Unnamed: 12</th>\n",
       "    </tr>\n",
       "  </thead>\n",
       "  <tbody>\n",
       "    <tr>\n",
       "      <th>0</th>\n",
       "      <td>1001</td>\n",
       "      <td>1/1</td>\n",
       "      <td>spine</td>\n",
       "      <td>40G</td>\n",
       "      <td>401</td>\n",
       "      <td>1/49</td>\n",
       "      <td>leaf</td>\n",
       "      <td>864504425592799</td>\n",
       "      <td>859365645174667</td>\n",
       "      <td>5138780418132</td>\n",
       "      <td>453.770639</td>\n",
       "      <td>2022-05-13 19:07:34</td>\n",
       "      <td>453.770639</td>\n",
       "    </tr>\n",
       "    <tr>\n",
       "      <th>1</th>\n",
       "      <td>1001</td>\n",
       "      <td>1/1</td>\n",
       "      <td>spine</td>\n",
       "      <td>40G</td>\n",
       "      <td>401</td>\n",
       "      <td>1/49</td>\n",
       "      <td>leaf</td>\n",
       "      <td>869309684178755</td>\n",
       "      <td>864504425592799</td>\n",
       "      <td>4805258585956</td>\n",
       "      <td>424.319602</td>\n",
       "      <td>2022-05-14 19:07:27</td>\n",
       "      <td>424.319602</td>\n",
       "    </tr>\n",
       "    <tr>\n",
       "      <th>2</th>\n",
       "      <td>1001</td>\n",
       "      <td>1/1</td>\n",
       "      <td>spine</td>\n",
       "      <td>40G</td>\n",
       "      <td>401</td>\n",
       "      <td>1/49</td>\n",
       "      <td>leaf</td>\n",
       "      <td>874373310562711</td>\n",
       "      <td>869309684178755</td>\n",
       "      <td>5063626383956</td>\n",
       "      <td>447.134299</td>\n",
       "      <td>2022-05-15 19:08:04</td>\n",
       "      <td>447.134299</td>\n",
       "    </tr>\n",
       "    <tr>\n",
       "      <th>3</th>\n",
       "      <td>1001</td>\n",
       "      <td>1/1</td>\n",
       "      <td>spine</td>\n",
       "      <td>40G</td>\n",
       "      <td>401</td>\n",
       "      <td>1/49</td>\n",
       "      <td>leaf</td>\n",
       "      <td>879933845908609</td>\n",
       "      <td>874373310562711</td>\n",
       "      <td>5560535345898</td>\n",
       "      <td>491.012939</td>\n",
       "      <td>2022-05-16 19:08:05</td>\n",
       "      <td>491.012939</td>\n",
       "    </tr>\n",
       "    <tr>\n",
       "      <th>4</th>\n",
       "      <td>1001</td>\n",
       "      <td>1/1</td>\n",
       "      <td>spine</td>\n",
       "      <td>40G</td>\n",
       "      <td>401</td>\n",
       "      <td>1/49</td>\n",
       "      <td>leaf</td>\n",
       "      <td>885694021578201</td>\n",
       "      <td>879933845908609</td>\n",
       "      <td>5760175669592</td>\n",
       "      <td>508.641814</td>\n",
       "      <td>2022-05-17 19:08:27</td>\n",
       "      <td>508.641814</td>\n",
       "    </tr>\n",
       "  </tbody>\n",
       "</table>\n",
       "</div>"
      ],
      "text/plain": [
       "   source_node source_port source_type operSpeed  destination_node  \\\n",
       "0         1001        1/1        spine       40G               401   \n",
       "1         1001        1/1        spine       40G               401   \n",
       "2         1001        1/1        spine       40G               401   \n",
       "3         1001        1/1        spine       40G               401   \n",
       "4         1001        1/1        spine       40G               401   \n",
       "\n",
       "  destination_port destination_type       Unnamed: 7       Unnamed: 8  \\\n",
       "0            1/49              leaf  864504425592799  859365645174667   \n",
       "1            1/49              leaf  869309684178755  864504425592799   \n",
       "2            1/49              leaf  874373310562711  869309684178755   \n",
       "3            1/49              leaf  879933845908609  874373310562711   \n",
       "4            1/49              leaf  885694021578201  879933845908609   \n",
       "\n",
       "      Unnamed: 9  Unnamed: 10            datetime  Unnamed: 12  \n",
       "0  5138780418132   453.770639 2022-05-13 19:07:34   453.770639  \n",
       "1  4805258585956   424.319602 2022-05-14 19:07:27   424.319602  \n",
       "2  5063626383956   447.134299 2022-05-15 19:08:04   447.134299  \n",
       "3  5560535345898   491.012939 2022-05-16 19:08:05   491.012939  \n",
       "4  5760175669592   508.641814 2022-05-17 19:08:27   508.641814  "
      ]
     },
     "execution_count": 4,
     "metadata": {},
     "output_type": "execute_result"
    }
   ],
   "source": [
    "dfs[0].head()"
   ]
  },
  {
   "cell_type": "markdown",
   "metadata": {},
   "source": [
    "##### `Fab1001-401` has same columns, *`Unnamed: 10`* & *`Unnamed: 12`*\n",
    "> Need to drop *`Unnamed: 12`* column"
   ]
  },
  {
   "cell_type": "code",
   "execution_count": 5,
   "metadata": {},
   "outputs": [
    {
     "data": {
      "text/plain": [
       "Index(['source_node', 'source_port', 'source_type', 'operSpeed',\n",
       "       'destination_node', 'destination_port', 'destination_type',\n",
       "       'Unnamed: 7', 'Unnamed: 8', 'Unnamed: 9', 'Unnamed: 10', 'datetime',\n",
       "       'Unnamed: 12'],\n",
       "      dtype='object')"
      ]
     },
     "execution_count": 5,
     "metadata": {},
     "output_type": "execute_result"
    }
   ],
   "source": [
    "dfs[0].columns"
   ]
  },
  {
   "cell_type": "code",
   "execution_count": 6,
   "metadata": {},
   "outputs": [],
   "source": [
    "dfs[0] = dfs[0].drop(columns=['Unnamed: 12'])"
   ]
  },
  {
   "cell_type": "markdown",
   "metadata": {},
   "source": [
    "##### From previous assignment we know *`Unnamed: 10`* column is actually *`Utilization`*\n",
    "> Need to rename *`Unnamed: 10`* column"
   ]
  },
  {
   "cell_type": "code",
   "execution_count": 7,
   "metadata": {},
   "outputs": [],
   "source": [
    "dfs[0].rename(columns={'Unnamed: 10':'utilization'}, inplace=True)"
   ]
  },
  {
   "cell_type": "code",
   "execution_count": 8,
   "metadata": {},
   "outputs": [
    {
     "data": {
      "text/plain": [
       "Index(['source_node', 'source_port', 'source_type', 'operSpeed',\n",
       "       'destination_node', 'destination_port', 'destination_type',\n",
       "       'Unnamed: 7', 'Unnamed: 8', 'Unnamed: 9', 'utilization', 'datetime'],\n",
       "      dtype='object')"
      ]
     },
     "execution_count": 8,
     "metadata": {},
     "output_type": "execute_result"
    }
   ],
   "source": [
    "dfs[0].columns"
   ]
  },
  {
   "cell_type": "markdown",
   "metadata": {},
   "source": [
    "### Second Dataframe"
   ]
  },
  {
   "cell_type": "code",
   "execution_count": 9,
   "metadata": {},
   "outputs": [
    {
     "data": {
      "text/html": [
       "<div>\n",
       "<style scoped>\n",
       "    .dataframe tbody tr th:only-of-type {\n",
       "        vertical-align: middle;\n",
       "    }\n",
       "\n",
       "    .dataframe tbody tr th {\n",
       "        vertical-align: top;\n",
       "    }\n",
       "\n",
       "    .dataframe thead th {\n",
       "        text-align: right;\n",
       "    }\n",
       "</style>\n",
       "<table border=\"1\" class=\"dataframe\">\n",
       "  <thead>\n",
       "    <tr style=\"text-align: right;\">\n",
       "      <th></th>\n",
       "      <th>1002</th>\n",
       "      <th>1/1</th>\n",
       "      <th>spine</th>\n",
       "      <th>40G</th>\n",
       "      <th>401</th>\n",
       "      <th>1/50</th>\n",
       "      <th>leaf</th>\n",
       "      <th>1294836545844876</th>\n",
       "      <th>1288534668453794</th>\n",
       "      <th>6301877391082</th>\n",
       "      <th>556.4757975014934</th>\n",
       "      <th>2022-05-13 19:07:34</th>\n",
       "    </tr>\n",
       "  </thead>\n",
       "  <tbody>\n",
       "    <tr>\n",
       "      <th>0</th>\n",
       "      <td>1002</td>\n",
       "      <td>1/1</td>\n",
       "      <td>spine</td>\n",
       "      <td>40G</td>\n",
       "      <td>401</td>\n",
       "      <td>1/50</td>\n",
       "      <td>leaf</td>\n",
       "      <td>1300783379663988</td>\n",
       "      <td>1294836545844876</td>\n",
       "      <td>5946833819112</td>\n",
       "      <td>525.124322</td>\n",
       "      <td>2022-05-14 19:07:27</td>\n",
       "    </tr>\n",
       "    <tr>\n",
       "      <th>1</th>\n",
       "      <td>1002</td>\n",
       "      <td>1/1</td>\n",
       "      <td>spine</td>\n",
       "      <td>40G</td>\n",
       "      <td>401</td>\n",
       "      <td>1/50</td>\n",
       "      <td>leaf</td>\n",
       "      <td>1305281270436508</td>\n",
       "      <td>1300783379663988</td>\n",
       "      <td>4497890772520</td>\n",
       "      <td>397.178047</td>\n",
       "      <td>2022-05-15 19:08:04</td>\n",
       "    </tr>\n",
       "    <tr>\n",
       "      <th>2</th>\n",
       "      <td>1002</td>\n",
       "      <td>1/1</td>\n",
       "      <td>spine</td>\n",
       "      <td>40G</td>\n",
       "      <td>401</td>\n",
       "      <td>1/50</td>\n",
       "      <td>leaf</td>\n",
       "      <td>1310806346359800</td>\n",
       "      <td>1305281270436508</td>\n",
       "      <td>5525075923292</td>\n",
       "      <td>487.881760</td>\n",
       "      <td>2022-05-16 19:08:05</td>\n",
       "    </tr>\n",
       "    <tr>\n",
       "      <th>3</th>\n",
       "      <td>1002</td>\n",
       "      <td>1/1</td>\n",
       "      <td>spine</td>\n",
       "      <td>40G</td>\n",
       "      <td>401</td>\n",
       "      <td>1/50</td>\n",
       "      <td>leaf</td>\n",
       "      <td>1316036666713584</td>\n",
       "      <td>1310806346359800</td>\n",
       "      <td>5230320353784</td>\n",
       "      <td>461.853906</td>\n",
       "      <td>2022-05-17 19:08:27</td>\n",
       "    </tr>\n",
       "    <tr>\n",
       "      <th>4</th>\n",
       "      <td>1002</td>\n",
       "      <td>1/1</td>\n",
       "      <td>spine</td>\n",
       "      <td>40G</td>\n",
       "      <td>401</td>\n",
       "      <td>1/50</td>\n",
       "      <td>leaf</td>\n",
       "      <td>1322295480586478</td>\n",
       "      <td>1316036666713584</td>\n",
       "      <td>6258813872894</td>\n",
       "      <td>552.673152</td>\n",
       "      <td>2022-05-18 19:07:28</td>\n",
       "    </tr>\n",
       "  </tbody>\n",
       "</table>\n",
       "</div>"
      ],
      "text/plain": [
       "   1002   1/1   spine  40G  401   1/50   leaf  1294836545844876  \\\n",
       "0  1002   1/1   spine  40G  401   1/50   leaf  1300783379663988   \n",
       "1  1002   1/1   spine  40G  401   1/50   leaf  1305281270436508   \n",
       "2  1002   1/1   spine  40G  401   1/50   leaf  1310806346359800   \n",
       "3  1002   1/1   spine  40G  401   1/50   leaf  1316036666713584   \n",
       "4  1002   1/1   spine  40G  401   1/50   leaf  1322295480586478   \n",
       "\n",
       "   1288534668453794  6301877391082  556.4757975014934 2022-05-13 19:07:34  \n",
       "0  1294836545844876  5946833819112         525.124322 2022-05-14 19:07:27  \n",
       "1  1300783379663988  4497890772520         397.178047 2022-05-15 19:08:04  \n",
       "2  1305281270436508  5525075923292         487.881760 2022-05-16 19:08:05  \n",
       "3  1310806346359800  5230320353784         461.853906 2022-05-17 19:08:27  \n",
       "4  1316036666713584  6258813872894         552.673152 2022-05-18 19:07:28  "
      ]
     },
     "execution_count": 9,
     "metadata": {},
     "output_type": "execute_result"
    }
   ],
   "source": [
    "dfs[1].head()"
   ]
  },
  {
   "cell_type": "markdown",
   "metadata": {},
   "source": [
    "##### Second dataset has set its first row as its column names\n",
    "- Have to extract the column names and inject it into actual dataframe instances\n",
    "- Rename second dataset column names similar to first dataset"
   ]
  },
  {
   "cell_type": "code",
   "execution_count": 10,
   "metadata": {},
   "outputs": [],
   "source": [
    "extracted_row = dfs[1].columns\n",
    "dfs[1].columns = dfs[0].columns"
   ]
  },
  {
   "cell_type": "code",
   "execution_count": 11,
   "metadata": {},
   "outputs": [
    {
     "data": {
      "text/plain": [
       "Index(['source_node', 'source_port', 'source_type', 'operSpeed',\n",
       "       'destination_node', 'destination_port', 'destination_type',\n",
       "       'Unnamed: 7', 'Unnamed: 8', 'Unnamed: 9', 'utilization', 'datetime'],\n",
       "      dtype='object')"
      ]
     },
     "execution_count": 11,
     "metadata": {},
     "output_type": "execute_result"
    }
   ],
   "source": [
    "dfs[1].columns"
   ]
  },
  {
   "cell_type": "code",
   "execution_count": 12,
   "metadata": {},
   "outputs": [],
   "source": [
    "dfs[1] = pd.concat([dfs[1], pd.DataFrame([extracted_row],columns=dfs[0].columns)], ignore_index=True)"
   ]
  },
  {
   "cell_type": "code",
   "execution_count": 13,
   "metadata": {},
   "outputs": [
    {
     "data": {
      "text/html": [
       "<div>\n",
       "<style scoped>\n",
       "    .dataframe tbody tr th:only-of-type {\n",
       "        vertical-align: middle;\n",
       "    }\n",
       "\n",
       "    .dataframe tbody tr th {\n",
       "        vertical-align: top;\n",
       "    }\n",
       "\n",
       "    .dataframe thead th {\n",
       "        text-align: right;\n",
       "    }\n",
       "</style>\n",
       "<table border=\"1\" class=\"dataframe\">\n",
       "  <thead>\n",
       "    <tr style=\"text-align: right;\">\n",
       "      <th></th>\n",
       "      <th>source_node</th>\n",
       "      <th>source_port</th>\n",
       "      <th>source_type</th>\n",
       "      <th>operSpeed</th>\n",
       "      <th>destination_node</th>\n",
       "      <th>destination_port</th>\n",
       "      <th>destination_type</th>\n",
       "      <th>Unnamed: 7</th>\n",
       "      <th>Unnamed: 8</th>\n",
       "      <th>Unnamed: 9</th>\n",
       "      <th>utilization</th>\n",
       "      <th>datetime</th>\n",
       "    </tr>\n",
       "  </thead>\n",
       "  <tbody>\n",
       "    <tr>\n",
       "      <th>0</th>\n",
       "      <td>1002</td>\n",
       "      <td>1/1</td>\n",
       "      <td>spine</td>\n",
       "      <td>40G</td>\n",
       "      <td>401</td>\n",
       "      <td>1/50</td>\n",
       "      <td>leaf</td>\n",
       "      <td>1300783379663988</td>\n",
       "      <td>1294836545844876</td>\n",
       "      <td>5946833819112</td>\n",
       "      <td>525.124322</td>\n",
       "      <td>2022-05-14 19:07:27</td>\n",
       "    </tr>\n",
       "    <tr>\n",
       "      <th>1</th>\n",
       "      <td>1002</td>\n",
       "      <td>1/1</td>\n",
       "      <td>spine</td>\n",
       "      <td>40G</td>\n",
       "      <td>401</td>\n",
       "      <td>1/50</td>\n",
       "      <td>leaf</td>\n",
       "      <td>1305281270436508</td>\n",
       "      <td>1300783379663988</td>\n",
       "      <td>4497890772520</td>\n",
       "      <td>397.178047</td>\n",
       "      <td>2022-05-15 19:08:04</td>\n",
       "    </tr>\n",
       "    <tr>\n",
       "      <th>2</th>\n",
       "      <td>1002</td>\n",
       "      <td>1/1</td>\n",
       "      <td>spine</td>\n",
       "      <td>40G</td>\n",
       "      <td>401</td>\n",
       "      <td>1/50</td>\n",
       "      <td>leaf</td>\n",
       "      <td>1310806346359800</td>\n",
       "      <td>1305281270436508</td>\n",
       "      <td>5525075923292</td>\n",
       "      <td>487.881760</td>\n",
       "      <td>2022-05-16 19:08:05</td>\n",
       "    </tr>\n",
       "    <tr>\n",
       "      <th>3</th>\n",
       "      <td>1002</td>\n",
       "      <td>1/1</td>\n",
       "      <td>spine</td>\n",
       "      <td>40G</td>\n",
       "      <td>401</td>\n",
       "      <td>1/50</td>\n",
       "      <td>leaf</td>\n",
       "      <td>1316036666713584</td>\n",
       "      <td>1310806346359800</td>\n",
       "      <td>5230320353784</td>\n",
       "      <td>461.853906</td>\n",
       "      <td>2022-05-17 19:08:27</td>\n",
       "    </tr>\n",
       "    <tr>\n",
       "      <th>4</th>\n",
       "      <td>1002</td>\n",
       "      <td>1/1</td>\n",
       "      <td>spine</td>\n",
       "      <td>40G</td>\n",
       "      <td>401</td>\n",
       "      <td>1/50</td>\n",
       "      <td>leaf</td>\n",
       "      <td>1322295480586478</td>\n",
       "      <td>1316036666713584</td>\n",
       "      <td>6258813872894</td>\n",
       "      <td>552.673152</td>\n",
       "      <td>2022-05-18 19:07:28</td>\n",
       "    </tr>\n",
       "  </tbody>\n",
       "</table>\n",
       "</div>"
      ],
      "text/plain": [
       "   source_node source_port source_type operSpeed  destination_node  \\\n",
       "0         1002        1/1        spine       40G               401   \n",
       "1         1002        1/1        spine       40G               401   \n",
       "2         1002        1/1        spine       40G               401   \n",
       "3         1002        1/1        spine       40G               401   \n",
       "4         1002        1/1        spine       40G               401   \n",
       "\n",
       "  destination_port destination_type        Unnamed: 7        Unnamed: 8  \\\n",
       "0            1/50              leaf  1300783379663988  1294836545844876   \n",
       "1            1/50              leaf  1305281270436508  1300783379663988   \n",
       "2            1/50              leaf  1310806346359800  1305281270436508   \n",
       "3            1/50              leaf  1316036666713584  1310806346359800   \n",
       "4            1/50              leaf  1322295480586478  1316036666713584   \n",
       "\n",
       "      Unnamed: 9  utilization            datetime  \n",
       "0  5946833819112   525.124322 2022-05-14 19:07:27  \n",
       "1  4497890772520   397.178047 2022-05-15 19:08:04  \n",
       "2  5525075923292   487.881760 2022-05-16 19:08:05  \n",
       "3  5230320353784   461.853906 2022-05-17 19:08:27  \n",
       "4  6258813872894   552.673152 2022-05-18 19:07:28  "
      ]
     },
     "execution_count": 13,
     "metadata": {},
     "output_type": "execute_result"
    }
   ],
   "source": [
    "dfs[1].head()"
   ]
  },
  {
   "cell_type": "code",
   "execution_count": 14,
   "metadata": {},
   "outputs": [
    {
     "data": {
      "text/plain": [
       "((70, 12), (70, 12))"
      ]
     },
     "execution_count": 14,
     "metadata": {},
     "output_type": "execute_result"
    }
   ],
   "source": [
    "dfs[0].shape, dfs[1].shape"
   ]
  },
  {
   "cell_type": "markdown",
   "metadata": {},
   "source": [
    "#### Data Exploration"
   ]
  },
  {
   "cell_type": "markdown",
   "metadata": {},
   "source": [
    "Merge both dataframe into one"
   ]
  },
  {
   "cell_type": "code",
   "execution_count": 15,
   "metadata": {},
   "outputs": [],
   "source": [
    "df = pd.concat([dfs[0], dfs[1]], ignore_index=True)"
   ]
  },
  {
   "cell_type": "code",
   "execution_count": 16,
   "metadata": {},
   "outputs": [
    {
     "name": "stdout",
     "output_type": "stream",
     "text": [
      "The dataset has 140 rows and 12 columns. And the columns are:\n",
      "source_node                  int64\n",
      "source_port                 object\n",
      "source_type                 object\n",
      "operSpeed                   object\n",
      "destination_node             int64\n",
      "destination_port            object\n",
      "destination_type            object\n",
      "Unnamed: 7                   int64\n",
      "Unnamed: 8                   int64\n",
      "Unnamed: 9                   int64\n",
      "utilization                float64\n",
      "datetime            datetime64[ns]\n",
      "dtype: object\n"
     ]
    }
   ],
   "source": [
    "records, fields = df.shape\n",
    "print(f'The dataset has {records} rows and {fields} columns. And the columns are:')\n",
    "print(df.dtypes)"
   ]
  },
  {
   "cell_type": "code",
   "execution_count": 17,
   "metadata": {},
   "outputs": [
    {
     "name": "stdout",
     "output_type": "stream",
     "text": [
      "Unique source nodes are [1001 1002]. And unique destination nodes are [401]\n"
     ]
    }
   ],
   "source": [
    "print(f'Unique source nodes are {df.source_node.unique()}. And unique destination nodes are {df.destination_node.unique()}')"
   ]
  },
  {
   "cell_type": "code",
   "execution_count": 18,
   "metadata": {},
   "outputs": [
    {
     "name": "stdout",
     "output_type": "stream",
     "text": [
      "Maximum utilization of any link in the given data is 1135.44 Mbps and that is 2.84% of the bandwidth.\n"
     ]
    }
   ],
   "source": [
    "print(f'Maximum utilization of any link in the given data is {round(df.utilization.max(),2)} Mbps and that is {round(df.utilization.max()/400,2)}% of the bandwidth.')"
   ]
  },
  {
   "cell_type": "markdown",
   "metadata": {},
   "source": [
    "##### All the bi-rectional and uni-directional nodes"
   ]
  },
  {
   "cell_type": "code",
   "execution_count": 19,
   "metadata": {},
   "outputs": [],
   "source": [
    "all_links = df[['source_node','destination_node']].drop_duplicates()\n",
    "all_links = [(row.source_node, row.destination_node) for index, row in all_links.iterrows()]"
   ]
  },
  {
   "cell_type": "code",
   "execution_count": 20,
   "metadata": {},
   "outputs": [
    {
     "name": "stdout",
     "output_type": "stream",
     "text": [
      "Number of total links: 2 [(1001, 401), (1002, 401)]\n"
     ]
    }
   ],
   "source": [
    "print(f'Number of total links: {len(all_links)} {all_links}')"
   ]
  },
  {
   "cell_type": "markdown",
   "metadata": {},
   "source": [
    "##### **Analysis**"
   ]
  },
  {
   "cell_type": "code",
   "execution_count": 21,
   "metadata": {},
   "outputs": [],
   "source": [
    "df['link'] = df.source_node.astype(str) +', '+ df.destination_node.astype(str)"
   ]
  },
  {
   "cell_type": "code",
   "execution_count": 22,
   "metadata": {},
   "outputs": [
    {
     "data": {
      "image/png": "[encoded data removed]",
      "text/plain": [
       "<Figure size 800x500 with 1 Axes>"
      ]
     },
     "metadata": {},
     "output_type": "display_data"
    }
   ],
   "source": [
    "plt.figure(figsize=(8,5))\n",
    "sns.lineplot(\n",
    "    data=df,\n",
    "    x=\"datetime\", y=\"utilization\", hue=\"link\", style=\"link\",\n",
    "    markers=True, dashes=False\n",
    ")\n",
    "plt.title('Utilization vs Time', fontsize=20)\n",
    "plt.ylabel('Utilization (Mbps)', fontsize=12, fontweight=\"bold\")\n",
    "plt.xlabel('Date', fontsize=12, fontweight=\"bold\")\n",
    "plt.ylim(0)\n",
    "plt.show()"
   ]
  },
  {
   "cell_type": "markdown",
   "metadata": {},
   "source": [
    "## Utilization over Time for both Links\n",
    "- 1001,401 (Dataset - 1)\n",
    "- 1002,401 (Dataset - 2)"
   ]
  },
  {
   "cell_type": "markdown",
   "metadata": {},
   "source": [
    "`datetime` format is not supported by Seaborn Regression plot. Therefore, it has to be converted into `float` first and then fit into the model.\n",
    "\n",
    "Also, the Y-axis (*`utilization`*) starts from 0."
   ]
  },
  {
   "cell_type": "code",
   "execution_count": 23,
   "metadata": {},
   "outputs": [],
   "source": [
    "df['float_time'] = df.datetime.apply(lambda x: x.timestamp())"
   ]
  },
  {
   "cell_type": "code",
   "execution_count": 24,
   "metadata": {},
   "outputs": [],
   "source": [
    "parameters = pd.DataFrame(columns=['link','beta0 (intercept)', 'beta1 (slope)', 'R', 'SSE'])"
   ]
  },
  {
   "cell_type": "code",
   "execution_count": 25,
   "metadata": {},
   "outputs": [
    {
     "data": {
      "text/html": [
       "<div>\n",
       "<style scoped>\n",
       "    .dataframe tbody tr th:only-of-type {\n",
       "        vertical-align: middle;\n",
       "    }\n",
       "\n",
       "    .dataframe tbody tr th {\n",
       "        vertical-align: top;\n",
       "    }\n",
       "\n",
       "    .dataframe thead th {\n",
       "        text-align: right;\n",
       "    }\n",
       "</style>\n",
       "<table border=\"1\" class=\"dataframe\">\n",
       "  <thead>\n",
       "    <tr style=\"text-align: right;\">\n",
       "      <th></th>\n",
       "      <th>link</th>\n",
       "      <th>beta0 (intercept)</th>\n",
       "      <th>beta1 (slope)</th>\n",
       "      <th>R</th>\n",
       "      <th>SSE</th>\n",
       "    </tr>\n",
       "  </thead>\n",
       "  <tbody>\n",
       "  </tbody>\n",
       "</table>\n",
       "</div>"
      ],
      "text/plain": [
       "Empty DataFrame\n",
       "Columns: [link, beta0 (intercept), beta1 (slope), R, SSE]\n",
       "Index: []"
      ]
     },
     "execution_count": 25,
     "metadata": {},
     "output_type": "execute_result"
    }
   ],
   "source": [
    "parameters"
   ]
  },
  {
   "cell_type": "code",
   "execution_count": 26,
   "metadata": {},
   "outputs": [
    {
     "data": {
      "image/png": "[encoded data removed]",
      "text/plain": [
       "<Figure size 800x500 with 1 Axes>"
      ]
     },
     "metadata": {},
     "output_type": "display_data"
    },
    {
     "data": {
      "image/png": "[encoded data removed]",
      "text/plain": [
       "<Figure size 800x500 with 1 Axes>"
      ]
     },
     "metadata": {},
     "output_type": "display_data"
    }
   ],
   "source": [
    "for i, node in enumerate(df.source_node.unique()):\n",
    "    df_filtered = df[df.source_node==node]\n",
    "    plt.figure(figsize=(8,5))\n",
    "    sns.regplot(\n",
    "        data=df_filtered,\n",
    "        x=\"float_time\", y=\"utilization\",fit_reg = True,\n",
    "    line_kws = {'label': 'Regression line', 'linestyle': '--', 'color': 'coral'}, \n",
    "    scatter_kws ={'s':40, 'color': 'blue', 'edgecolors': 'black'}\n",
    "    )\n",
    "\n",
    "    # Get the regression parameters (slope and intercept)\n",
    "    y = np.array(df_filtered.utilization.values)\n",
    "    x = np.array(df_filtered.float_time.values).reshape(-1,1)\n",
    "    \n",
    "    model = LinearRegression()\n",
    "    model.fit(x,y)\n",
    "    slope = model.coef_[0]\n",
    "    intercept = round(model.intercept_,2)\n",
    "\n",
    "    y_pred = model.predict(x)\n",
    "\n",
    "    # Calculate Pearson correlation coefficient (R)\n",
    "    R = np.corrcoef(y,y_pred)[0,1]\n",
    "\n",
    "    # Calculate the Mean Squared Error (MSE)\n",
    "    mse = mean_squared_error(y, y_pred)\n",
    "\n",
    "    # Calculate the SSE\n",
    "    sse = mse * len(y)\n",
    "\n",
    "    parameters.loc[i] = [f'{node},401', slope, intercept, R, round(sse,2)]\n",
    "\n",
    "\n",
    "    plt.title(f'{node} ==> 401 (Slope : {slope}, Intercept : {intercept})', fontsize=12)\n",
    "    plt.ylabel('Utilization (Mbps)', fontsize=12, fontweight=\"bold\")\n",
    "    plt.xlabel('Time', fontsize=12, fontweight=\"bold\")\n",
    "    plt.ylim(0)\n",
    "\n",
    "    plt.tight_layout()\n",
    "    plt.show()"
   ]
  },
  {
   "cell_type": "markdown",
   "metadata": {},
   "source": [
    "### Parameters of each link"
   ]
  },
  {
   "cell_type": "code",
   "execution_count": 27,
   "metadata": {},
   "outputs": [
    {
     "data": {
      "text/html": [
       "<div>\n",
       "<style scoped>\n",
       "    .dataframe tbody tr th:only-of-type {\n",
       "        vertical-align: middle;\n",
       "    }\n",
       "\n",
       "    .dataframe tbody tr th {\n",
       "        vertical-align: top;\n",
       "    }\n",
       "\n",
       "    .dataframe thead th {\n",
       "        text-align: right;\n",
       "    }\n",
       "</style>\n",
       "<table border=\"1\" class=\"dataframe\">\n",
       "  <thead>\n",
       "    <tr style=\"text-align: right;\">\n",
       "      <th></th>\n",
       "      <th>link</th>\n",
       "      <th>beta0 (intercept)</th>\n",
       "      <th>beta1 (slope)</th>\n",
       "      <th>R</th>\n",
       "      <th>SSE</th>\n",
       "    </tr>\n",
       "  </thead>\n",
       "  <tbody>\n",
       "    <tr>\n",
       "      <th>0</th>\n",
       "      <td>1001,401</td>\n",
       "      <td>0.000045</td>\n",
       "      <td>-73565.13</td>\n",
       "      <td>0.752802</td>\n",
       "      <td>347436.08</td>\n",
       "    </tr>\n",
       "    <tr>\n",
       "      <th>1</th>\n",
       "      <td>1002,401</td>\n",
       "      <td>0.000050</td>\n",
       "      <td>-81250.99</td>\n",
       "      <td>0.686660</td>\n",
       "      <td>620047.65</td>\n",
       "    </tr>\n",
       "  </tbody>\n",
       "</table>\n",
       "</div>"
      ],
      "text/plain": [
       "       link  beta0 (intercept)  beta1 (slope)         R        SSE\n",
       "0  1001,401           0.000045      -73565.13  0.752802  347436.08\n",
       "1  1002,401           0.000050      -81250.99  0.686660  620047.65"
      ]
     },
     "execution_count": 27,
     "metadata": {},
     "output_type": "execute_result"
    }
   ],
   "source": [
    "parameters"
   ]
  }
 ],
 "metadata": {
  "kernelspec": {
   "display_name": "Python 3",
   "language": "python",
   "name": "python3"
  },
  "language_info": {
   "codemirror_mode": {
    "name": "ipython",
    "version": 3
   },
   "file_extension": ".py",
   "mimetype": "text/x-python",
   "name": "python",
   "nbconvert_exporter": "python",
   "pygments_lexer": "ipython3",
   "version": "3.10.4"
  },
  "orig_nbformat": 4
 },
 "nbformat": 4,
 "nbformat_minor": 2
}
